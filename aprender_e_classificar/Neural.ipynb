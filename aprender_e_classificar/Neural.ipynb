{
 "cells": [
  {
   "cell_type": "code",
   "execution_count": 1,
   "metadata": {
    "collapsed": true,
    "ExecuteTime": {
     "start_time": "2023-04-14T18:32:11.910794Z",
     "end_time": "2023-04-14T18:32:14.307972Z"
    }
   },
   "outputs": [],
   "source": [
    "import numpy as np\n",
    "import os\n",
    "import librosa\n",
    "from sklearn.model_selection import train_test_split\n",
    "from sklearn.neural_network import MLPClassifier\n",
    "from sklearn.metrics import accuracy_score\n",
    "from sklearn.preprocessing import StandardScaler\n",
    "import pickle"
   ]
  },
  {
   "cell_type": "code",
   "execution_count": 16,
   "outputs": [],
   "source": [
    "import wave\n",
    "import numpy as np\n",
    "def corte(pasta):\n",
    "    # definir o tempo de corte em segundos\n",
    "    start_time = 1\n",
    "    end_time = 5\n",
    "\n",
    "    # definir as pastas de entrada e saída\n",
    "    input_folder = pasta+'/'\n",
    "    output_folder = pasta+'Cortado'+'/'\n",
    "\n",
    "    # criar a pasta de saída, se não existir\n",
    "    if not os.path.exists(output_folder):\n",
    "        os.makedirs(output_folder)\n",
    "\n",
    "    # percorrer todos os arquivos de áudio na pasta de entrada\n",
    "    for filename in os.listdir(input_folder):\n",
    "        if filename.endswith('.wav') or filename.endswith('.ogg'):\n",
    "            file_path = os.path.join(input_folder, filename)\n",
    "\n",
    "            # carregar o arquivo de áudio\n",
    "            y, sr = librosa.load(file_path, sr=None)\n",
    "\n",
    "            # calcular os índices de início e fim do trecho a ser cortado\n",
    "            start_idx = int(start_time * sr)\n",
    "            end_idx = int(end_time * sr)\n",
    "\n",
    "            # cortar o trecho do áudio\n",
    "            y_cut = y[start_idx:end_idx]\n",
    "\n",
    "            # salvar o trecho cortado em um novo arquivo\n",
    "            output_path = os.path.join(output_folder, filename)\n",
    "            #librosa.output.write_wav(output_path, y_cut, sr)\n",
    "            with wave.open(output_path, 'wb') as wav_file:\n",
    "                # Definir os parâmetros do arquivo WAV\n",
    "                wav_file.setnchannels(1)  # Mono\n",
    "                wav_file.setsampwidth(2)  # 16 bits\n",
    "                wav_file.setframerate(sr)  # 44.1 kHz\n",
    "                # Escrever os dados de áudio no arquivo WAV\n",
    "                wav_file.writeframes(y_cut.tobytes())\n"
   ],
   "metadata": {
    "collapsed": false,
    "ExecuteTime": {
     "start_time": "2023-04-03T20:05:56.059789Z",
     "end_time": "2023-04-03T20:05:56.066784Z"
    }
   }
  },
  {
   "cell_type": "code",
   "execution_count": 1,
   "outputs": [
    {
     "ename": "NameError",
     "evalue": "name 'corte' is not defined",
     "output_type": "error",
     "traceback": [
      "\u001B[1;31m---------------------------------------------------------------------------\u001B[0m",
      "\u001B[1;31mNameError\u001B[0m                                 Traceback (most recent call last)",
      "Cell \u001B[1;32mIn[1], line 3\u001B[0m\n\u001B[0;32m      1\u001B[0m classes \u001B[38;5;241m=\u001B[39m [\u001B[38;5;124m'\u001B[39m\u001B[38;5;124mChoroTudo\u001B[39m\u001B[38;5;124m'\u001B[39m, \u001B[38;5;124m'\u001B[39m\u001B[38;5;124mlaugh\u001B[39m\u001B[38;5;124m'\u001B[39m, \u001B[38;5;124m'\u001B[39m\u001B[38;5;124mNoise\u001B[39m\u001B[38;5;124m'\u001B[39m,\u001B[38;5;124m'\u001B[39m\u001B[38;5;124msilence\u001B[39m\u001B[38;5;124m'\u001B[39m]\n\u001B[0;32m      2\u001B[0m \u001B[38;5;28;01mfor\u001B[39;00m i \u001B[38;5;129;01min\u001B[39;00m classes:\n\u001B[1;32m----> 3\u001B[0m     \u001B[43mcorte\u001B[49m(i)\n",
      "\u001B[1;31mNameError\u001B[0m: name 'corte' is not defined"
     ]
    }
   ],
   "source": [
    "classes = ['ChoroTudo', 'laugh', 'Noise','silence']\n",
    "for i in classes:\n",
    "    corte(i)"
   ],
   "metadata": {
    "collapsed": false,
    "ExecuteTime": {
     "start_time": "2023-04-03T20:07:17.102596Z",
     "end_time": "2023-04-03T20:07:19.815532Z"
    }
   }
  },
  {
   "cell_type": "code",
   "execution_count": 39,
   "outputs": [
    {
     "name": "stdout",
     "output_type": "stream",
     "text": [
      "Iteration 1, loss = 10.83907343\n",
      "Validation score: 0.406593\n",
      "Iteration 2, loss = 6.49301936\n",
      "Validation score: 0.384615\n",
      "Iteration 3, loss = 3.58363334\n",
      "Validation score: 0.263736\n",
      "Iteration 4, loss = 4.65804208\n",
      "Validation score: 0.494505\n",
      "Iteration 5, loss = 2.42755124\n",
      "Validation score: 0.439560\n",
      "Iteration 6, loss = 1.79033709\n",
      "Validation score: 0.428571\n",
      "Iteration 7, loss = 1.69909765\n",
      "Validation score: 0.483516\n",
      "Iteration 8, loss = 1.49038622\n",
      "Validation score: 0.703297\n",
      "Iteration 9, loss = 0.79298530\n",
      "Validation score: 0.615385\n",
      "Iteration 10, loss = 1.16530234\n",
      "Validation score: 0.725275\n",
      "Iteration 11, loss = 0.70010671\n",
      "Validation score: 0.835165\n",
      "Iteration 12, loss = 0.38218578\n",
      "Validation score: 0.703297\n",
      "Iteration 13, loss = 0.70826006\n",
      "Validation score: 0.670330\n",
      "Iteration 14, loss = 0.77010104\n",
      "Validation score: 0.857143\n",
      "Iteration 15, loss = 0.30191043\n",
      "Validation score: 0.824176\n",
      "Iteration 16, loss = 0.30364745\n",
      "Validation score: 0.824176\n",
      "Iteration 17, loss = 0.32768536\n",
      "Validation score: 0.835165\n",
      "Iteration 18, loss = 0.32693518\n",
      "Validation score: 0.879121\n",
      "Iteration 19, loss = 0.33142500\n",
      "Validation score: 0.868132\n",
      "Iteration 20, loss = 0.28149059\n",
      "Validation score: 0.857143\n",
      "Iteration 21, loss = 0.22431149\n",
      "Validation score: 0.879121\n",
      "Iteration 22, loss = 0.18146921\n",
      "Validation score: 0.890110\n",
      "Iteration 23, loss = 0.14889629\n",
      "Validation score: 0.901099\n",
      "Iteration 24, loss = 0.14417772\n",
      "Validation score: 0.890110\n",
      "Iteration 25, loss = 0.14266607\n",
      "Validation score: 0.879121\n",
      "Iteration 26, loss = 0.16011603\n",
      "Validation score: 0.868132\n",
      "Iteration 27, loss = 0.14876198\n",
      "Validation score: 0.901099\n",
      "Iteration 28, loss = 0.10440567\n",
      "Validation score: 0.901099\n",
      "Iteration 29, loss = 0.09254973\n",
      "Validation score: 0.912088\n",
      "Iteration 30, loss = 0.10983092\n",
      "Validation score: 0.912088\n",
      "Iteration 31, loss = 0.09669125\n",
      "Validation score: 0.901099\n",
      "Iteration 32, loss = 0.07527199\n",
      "Validation score: 0.912088\n",
      "Iteration 33, loss = 0.10132638\n",
      "Validation score: 0.912088\n",
      "Iteration 34, loss = 0.10290302\n",
      "Validation score: 0.912088\n",
      "Iteration 35, loss = 0.08287500\n",
      "Validation score: 0.923077\n",
      "Iteration 36, loss = 0.05992200\n",
      "Validation score: 0.934066\n",
      "Iteration 37, loss = 0.06438030\n",
      "Validation score: 0.934066\n",
      "Iteration 38, loss = 0.06529963\n",
      "Validation score: 0.945055\n",
      "Iteration 39, loss = 0.04841342\n",
      "Validation score: 0.912088\n",
      "Iteration 40, loss = 0.05327405\n",
      "Validation score: 0.923077\n",
      "Iteration 41, loss = 0.05563804\n",
      "Validation score: 0.912088\n",
      "Iteration 42, loss = 0.04496277\n",
      "Validation score: 0.901099\n",
      "Iteration 43, loss = 0.04119986\n",
      "Validation score: 0.923077\n",
      "Iteration 44, loss = 0.04431600\n",
      "Validation score: 0.923077\n",
      "Iteration 45, loss = 0.05826435\n",
      "Validation score: 0.912088\n",
      "Iteration 46, loss = 0.06045130\n",
      "Validation score: 0.923077\n",
      "Iteration 47, loss = 0.04059082\n",
      "Validation score: 0.934066\n",
      "Iteration 48, loss = 0.03040215\n",
      "Validation score: 0.923077\n",
      "Iteration 49, loss = 0.03438200\n",
      "Validation score: 0.945055\n",
      "Validation score did not improve more than tol=0.000100 for 10 consecutive epochs. Stopping.\n",
      "Precisão do classificador: 95.38%\n"
     ]
    }
   ],
   "source": [
    "# definir as classes dos sons a serem aprendidos\n",
    "classes = ['Choro', 'Risada', 'Barulho','Silencio']\n",
    "#classes = ['belly_pain','burping','discomfort','hungry','tired']\n",
    "# carregar os arquivos de áudio e extrair recursos\n",
    "features = []\n",
    "labels = []\n",
    "for c in classes:\n",
    "    path = 'Dataset_Microfone/' + c + '/'\n",
    "    for filename in os.listdir(path):\n",
    "        if filename.endswith('.wav') or filename.endswith('.ogg'):\n",
    "            file_path = os.path.join(path, filename)\n",
    "            x, sr = librosa.load(file_path)\n",
    "            mfccs = librosa.feature.mfcc(y=x, sr=sr, n_mfcc=90)\n",
    "            # Aplica a normalização das features\n",
    "            scaler = StandardScaler()\n",
    "            mfccs_norm = scaler.fit_transform(mfccs.T)\n",
    "\n",
    "            # Transpõe novamente as features normalizadas para o formato original\n",
    "            mfccs_norm = mfccs_norm.T\n",
    "\n",
    "            features.append(np.mean(mfccs, axis=1))\n",
    "            labels.append(c)\n",
    "\n",
    "# dividir o conjunto de dados em treinamento e teste 0.2\n",
    "X_train, X_test, y_train, y_test = train_test_split(features, labels, test_size=0.3, random_state=42)\n",
    "\n",
    "# criar um classificador MLP\n",
    "#100\n",
    "clf = MLPClassifier(hidden_layer_sizes=(300,), max_iter=700, early_stopping=True,validation_fraction=0.3, verbose=True)\n",
    "\n",
    "# treinar o classificador\n",
    "clf.fit(X_train, y_train)\n",
    "\n",
    "# fazer previsões no conjunto de teste\n",
    "y_pred = clf.predict(X_test)\n",
    "\n",
    "# avaliar a precisão do classificador\n",
    "accuracy = accuracy_score(y_test, y_pred)\n",
    "print('Precisão do classificador: {:.2f}%'.format(accuracy * 100))"
   ],
   "metadata": {
    "collapsed": false,
    "ExecuteTime": {
     "start_time": "2023-04-14T18:44:24.542801Z",
     "end_time": "2023-04-14T18:44:29.438801Z"
    }
   }
  },
  {
   "cell_type": "code",
   "execution_count": 40,
   "outputs": [],
   "source": [
    "# salvar o modelo treinado\n",
    "with open('Modelos/modelo_Tipos_De_ChoroVMicrofone.pkl', 'wb') as f:\n",
    "    pickle.dump(clf, f)\n"
   ],
   "metadata": {
    "collapsed": false,
    "ExecuteTime": {
     "start_time": "2023-04-14T18:44:49.846306Z",
     "end_time": "2023-04-14T18:44:49.862313Z"
    }
   }
  },
  {
   "cell_type": "code",
   "execution_count": 41,
   "outputs": [],
   "source": [
    "# carregar o modelo treinado\n",
    "with open('Modelos/modelo_Tipos_De_ChoroVMicrofone.pkl', 'rb') as f:\n",
    "    clf = pickle.load(f)"
   ],
   "metadata": {
    "collapsed": false,
    "ExecuteTime": {
     "start_time": "2023-04-14T18:44:50.486310Z",
     "end_time": "2023-04-14T18:44:50.501314Z"
    }
   }
  },
  {
   "cell_type": "code",
   "execution_count": 43,
   "outputs": [
    {
     "name": "stdout",
     "output_type": "stream",
     "text": [
      "O som é da classe: Choro\n"
     ]
    }
   ],
   "source": [
    "# fazer previsões em novos dados\n",
    "x, sr = librosa.load('Dataset_Microfone/Microfone_Teste_Aleatorio.wav')\n",
    "mfccs = librosa.feature.mfcc(y=x, sr=sr, n_mfcc=90)\n",
    "features = np.mean(mfccs, axis=1)\n",
    "y_pred = clf.predict([features])\n",
    "print('O som é da classe:', y_pred[0])"
   ],
   "metadata": {
    "collapsed": false,
    "ExecuteTime": {
     "start_time": "2023-04-14T18:47:26.323073Z",
     "end_time": "2023-04-14T18:47:26.397107Z"
    }
   }
  }
 ],
 "metadata": {
  "kernelspec": {
   "display_name": "Python 3",
   "language": "python",
   "name": "python3"
  },
  "language_info": {
   "codemirror_mode": {
    "name": "ipython",
    "version": 2
   },
   "file_extension": ".py",
   "mimetype": "text/x-python",
   "name": "python",
   "nbconvert_exporter": "python",
   "pygments_lexer": "ipython2",
   "version": "2.7.6"
  }
 },
 "nbformat": 4,
 "nbformat_minor": 0
}
