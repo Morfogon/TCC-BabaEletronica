{
 "cells": [
  {
   "cell_type": "code",
   "execution_count": 7,
   "id": "initial_id",
   "metadata": {
    "collapsed": true,
    "ExecuteTime": {
     "end_time": "2023-08-19T20:15:44.049012500Z",
     "start_time": "2023-08-19T20:15:41.681982500Z"
    }
   },
   "outputs": [
    {
     "name": "stdout",
     "output_type": "stream",
     "text": [
      "Iteration 1, loss = 1.43446653\n",
      "Validation score: 0.282051\n",
      "Iteration 2, loss = 1.32609776\n",
      "Validation score: 0.333333\n",
      "Iteration 3, loss = 1.22609182\n",
      "Validation score: 0.384615\n",
      "Iteration 4, loss = 1.13455828\n",
      "Validation score: 0.410256\n",
      "Iteration 5, loss = 1.05077504\n",
      "Validation score: 0.487179\n",
      "Iteration 6, loss = 0.97412864\n",
      "Validation score: 0.564103\n",
      "Iteration 7, loss = 0.90371848\n",
      "Validation score: 0.666667\n",
      "Iteration 8, loss = 0.83863691\n",
      "Validation score: 0.692308\n",
      "Iteration 9, loss = 0.77856148\n",
      "Validation score: 0.717949\n",
      "Iteration 10, loss = 0.72300693\n",
      "Validation score: 0.717949\n",
      "Iteration 11, loss = 0.67174396\n",
      "Validation score: 0.743590\n",
      "Iteration 12, loss = 0.62458263\n",
      "Validation score: 0.769231\n",
      "Iteration 13, loss = 0.58079878\n",
      "Validation score: 0.769231\n",
      "Iteration 14, loss = 0.54029607\n",
      "Validation score: 0.794872\n",
      "Iteration 15, loss = 0.50283255\n",
      "Validation score: 0.820513\n",
      "Iteration 16, loss = 0.46828271\n",
      "Validation score: 0.820513\n",
      "Iteration 17, loss = 0.43612799\n",
      "Validation score: 0.846154\n",
      "Iteration 18, loss = 0.40629530\n",
      "Validation score: 0.846154\n",
      "Iteration 19, loss = 0.37859175\n",
      "Validation score: 0.846154\n",
      "Iteration 20, loss = 0.35306174\n",
      "Validation score: 0.871795\n",
      "Iteration 21, loss = 0.32952678\n",
      "Validation score: 0.871795\n",
      "Iteration 22, loss = 0.30795756\n",
      "Validation score: 0.897436\n",
      "Iteration 23, loss = 0.28823862\n",
      "Validation score: 0.948718\n",
      "Iteration 24, loss = 0.27009092\n",
      "Validation score: 0.948718\n",
      "Iteration 25, loss = 0.25334120\n",
      "Validation score: 0.948718\n",
      "Iteration 26, loss = 0.23789179\n",
      "Validation score: 0.948718\n",
      "Iteration 27, loss = 0.22356623\n",
      "Validation score: 0.948718\n",
      "Iteration 28, loss = 0.21026275\n",
      "Validation score: 0.948718\n",
      "Iteration 29, loss = 0.19794416\n",
      "Validation score: 0.948718\n",
      "Iteration 30, loss = 0.18653532\n",
      "Validation score: 0.948718\n",
      "Iteration 31, loss = 0.17596442\n",
      "Validation score: 0.948718\n",
      "Iteration 32, loss = 0.16615527\n",
      "Validation score: 0.948718\n",
      "Iteration 33, loss = 0.15708435\n",
      "Validation score: 0.948718\n",
      "Iteration 34, loss = 0.14861447\n",
      "Validation score: 0.948718\n",
      "Validation score did not improve more than tol=0.000100 for 10 consecutive epochs. Stopping.\n",
      "Precisão do classificador: 94.64%\n"
     ]
    }
   ],
   "source": [
    "import os\n",
    "import numpy as np\n",
    "import librosa\n",
    "from sklearn.preprocessing import StandardScaler\n",
    "from sklearn.neural_network import MLPClassifier\n",
    "from sklearn.model_selection import train_test_split\n",
    "from sklearn.metrics import accuracy_score\n",
    "import pickle\n",
    "\n",
    "# Definir as classes dos sons a serem aprendidos\n",
    "classes = ['Crying_LimpoV3', 'Laugh_LimpoV3', 'Noise_LimpoV3']\n",
    "numero_de_mfccs = 100  # Número de coeficientes MFCCs a serem extraídos\n",
    "\n",
    "# Lista para armazenar as características de todas as classes\n",
    "all_features = []\n",
    "\n",
    "# Loop através de cada classe\n",
    "for c in classes:\n",
    "    path = c + '/'\n",
    "    for filename in os.listdir(path):\n",
    "        if filename.endswith('.wav') or filename.endswith('.ogg'):\n",
    "            file_path = os.path.join(path, filename)\n",
    "            x, sr = librosa.load(file_path)\n",
    "            mfccs = librosa.feature.mfcc(y=x, sr=sr, n_mfcc=numero_de_mfccs)\n",
    "\n",
    "            # Média das características MFCCs para a amostra\n",
    "            mfccs_mean = np.mean(mfccs, axis=1)\n",
    "\n",
    "            all_features.append(mfccs_mean)\n",
    "\n",
    "# Converter a lista de características em um array numpy\n",
    "all_features = np.array(all_features)\n",
    "\n",
    "# Criar um único scaler para todas as amostras e normalizar\n",
    "scaler = StandardScaler()\n",
    "all_features_norm = scaler.fit_transform(all_features)\n",
    "\n",
    "# Salvar a normalização dos 90 MFCCs em um arquivo\n",
    "with open('scalers_Novo_Modelo_MLP_NormalizadoV3.pkl', 'wb') as scaler_file:\n",
    "    pickle.dump(scaler, scaler_file)\n",
    "\n",
    "# Definir rótulos\n",
    "all_labels = []\n",
    "for c in classes:\n",
    "    all_labels.extend([c] * len(os.listdir(c)))\n",
    "\n",
    "# Dividir o conjunto de dados em treinamento e teste\n",
    "X_train, X_test, y_train, y_test = train_test_split(all_features_norm, all_labels, test_size=0.3, random_state=42)\n",
    "\n",
    "# Criar um classificador MLP\n",
    "clf = MLPClassifier(hidden_layer_sizes=(40,), max_iter=200, early_stopping=True, validation_fraction=0.3, verbose=True)\n",
    "\n",
    "# Treinar o classificador\n",
    "clf.fit(X_train, y_train)\n",
    "\n",
    "# Fazer previsões no conjunto de teste\n",
    "y_pred = clf.predict(X_test)\n",
    "\n",
    "# Avaliar a precisão do classificador\n",
    "accuracy = accuracy_score(y_test, y_pred)\n",
    "print('Precisão do classificador: {:.2f}%'.format(accuracy * 100))"
   ]
  },
  {
   "cell_type": "code",
   "execution_count": 8,
   "outputs": [],
   "source": [
    "#with open('scalers_Novo_Modelo_MLP_Normalizado.pkl', 'wb') as scalers_file:\n",
    "#    pickle.dump(scaler, scalers_file)\n",
    "\n",
    "modelo_filename = 'Novo_Modelo_MLP_NormalizadoV3.pkl'\n",
    "with open(modelo_filename, 'wb') as model_file:\n",
    "    pickle.dump(clf, model_file)"
   ],
   "metadata": {
    "collapsed": false,
    "ExecuteTime": {
     "end_time": "2023-08-19T20:16:00.224331Z",
     "start_time": "2023-08-19T20:16:00.204325500Z"
    }
   },
   "id": "81e787677dd59074"
  },
  {
   "cell_type": "code",
   "execution_count": 9,
   "outputs": [],
   "source": [
    "import pickle\n",
    "\n",
    "# Carregar os Scalers\n",
    "with open('scalers_Novo_Modelo_MLP_NormalizadoV3.pkl', 'rb') as scalers_file:\n",
    "    scaler = pickle.load(scalers_file)\n",
    "\n",
    "# Carregar o modelo treinado\n",
    "modelo_filename = 'Novo_Modelo_MLP_NormalizadoV3.pkl'\n",
    "with open(modelo_filename, 'rb') as model_file:\n",
    "    clf = pickle.load(model_file)\n"
   ],
   "metadata": {
    "collapsed": false,
    "ExecuteTime": {
     "end_time": "2023-08-19T20:16:00.696326800Z",
     "start_time": "2023-08-19T20:16:00.677327600Z"
    }
   },
   "id": "28f384080b7cdefc"
  },
  {
   "cell_type": "code",
   "execution_count": 13,
   "outputs": [
    {
     "name": "stdout",
     "output_type": "stream",
     "text": [
      "Classe prevista: ['Laugh_LimpoV3']\n"
     ]
    }
   ],
   "source": [
    "# Carregar e pré-processar o novo áudio\n",
    "new_audio_path = 'Laugh_LimpoV2/laugh_1.m4a_1_resampled.wav'  # Substitua pelo caminho do novo áudio\n",
    "x, sr = librosa.load(new_audio_path)\n",
    "mfccs = librosa.feature.mfcc(y=x, sr=sr, n_mfcc=numero_de_mfccs)  # Use o mesmo número de MFCCs do treinamento\n",
    "mfccs_mean = np.mean(mfccs, axis=1)\n",
    "mfccs_norm = scaler.transform(mfccs_mean.reshape(1, -1))  # Aplicar normalização usando o scaler\n",
    "\n",
    "# Fazer previsão com o modelo\n",
    "predicted_class = clf.predict(mfccs_norm)\n",
    "\n",
    "# O resultado 'predicted_class' contém o rótulo previsto para o novo áudio\n",
    "print('Classe prevista:', predicted_class)"
   ],
   "metadata": {
    "collapsed": false,
    "ExecuteTime": {
     "end_time": "2023-08-19T20:17:01.113408200Z",
     "start_time": "2023-08-19T20:17:01.088371300Z"
    }
   },
   "id": "ae5756db54dcc973"
  }
 ],
 "metadata": {
  "kernelspec": {
   "display_name": "Python 3",
   "language": "python",
   "name": "python3"
  },
  "language_info": {
   "codemirror_mode": {
    "name": "ipython",
    "version": 2
   },
   "file_extension": ".py",
   "mimetype": "text/x-python",
   "name": "python",
   "nbconvert_exporter": "python",
   "pygments_lexer": "ipython2",
   "version": "2.7.6"
  }
 },
 "nbformat": 4,
 "nbformat_minor": 5
}
