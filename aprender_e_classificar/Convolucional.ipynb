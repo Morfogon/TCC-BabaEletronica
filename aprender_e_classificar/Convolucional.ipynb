{
 "cells": [
  {
   "cell_type": "code",
   "execution_count": null,
   "metadata": {
    "collapsed": true,
    "ExecuteTime": {
     "start_time": "2023-04-03T23:08:40.381464Z",
     "end_time": "2023-04-03T23:08:43.685175Z"
    }
   },
   "outputs": [],
   "source": [
    "import os\n",
    "import numpy as np\n",
    "import tensorflow as tf\n",
    "from tensorflow.keras.models import Sequential\n",
    "from tensorflow.keras.layers import Dense, Dropout, Flatten, Conv2D, MaxPooling2D, BatchNormalization\n",
    "from tensorflow.keras.optimizers import Adam\n",
    "from tensorflow.keras.utils import to_categorical\n",
    "from sklearn.model_selection import train_test_split\n",
    "from sklearn.preprocessing import LabelEncoder\n",
    "from tensorflow.keras.callbacks import EarlyStopping\n",
    "from keras.utils.vis_utils import plot_model\n",
    "from tensorflow.keras import regularizers\n",
    "import cv2\n",
    "from keras.callbacks import EarlyStopping"
   ]
  },
  {
   "cell_type": "code",
   "execution_count": null,
   "outputs": [],
   "source": [
    "# Definir o caminho das pastas de treinamento, teste e classificação\n",
    "train_dir = 'treinamentov2'\n",
    "test_dir = 'testev2'\n",
    "predict_dir = 'validacaov2'\n",
    "\n",
    "# Definir o tamanho do espectrograma\n",
    "spec_height = 128\n",
    "spec_width = 128\n",
    "\n",
    "# Definir o número de categorias\n",
    "num_classes = 4\n",
    "\n",
    "# Definir o tamanho do batch e o número de épocas\n",
    "batch_size = 32\n",
    "#100\n",
    "epochs = 200\n",
    "learningRate = 0.00008\n"
   ],
   "metadata": {
    "collapsed": false,
    "ExecuteTime": {
     "start_time": "2023-04-03T23:08:43.688138Z",
     "end_time": "2023-04-03T23:08:43.699137Z"
    }
   }
  },
  {
   "cell_type": "code",
   "execution_count": null,
   "outputs": [],
   "source": [
    "import librosa\n",
    "\n",
    "\n",
    "# Definir a função para carregar os dados de áudio e criar os espectrogramas\n",
    "def load_audio_data(directory, height, width):\n",
    "    X = []\n",
    "    y = []\n",
    "    for folder in os.listdir(directory):\n",
    "        subfolder = os.path.join(directory, folder)\n",
    "        for filename in os.listdir(subfolder):\n",
    "            filepath = os.path.join(subfolder, filename)\n",
    "            label = folder\n",
    "            y.append(label)\n",
    "            spectrogram = create_spectrogram(filepath, height, width)\n",
    "            X.append(spectrogram)\n",
    "    X = np.array(X)\n",
    "    y = np.array(y)\n",
    "    return X, y\n",
    "\n",
    "# Definir a função para criar os espectrogramas\n",
    "def create_spectrogram(filepath, height, width):\n",
    "    # Carregar o arquivo de áudio com o librosa\n",
    "    signal, sr = librosa.load(filepath, sr=22050)\n",
    "\n",
    "    # Extrair o espectrograma mel\n",
    "    spectrogram = librosa.feature.melspectrogram(y=signal, sr=sr, n_mels=height, n_fft=1024, hop_length=512)\n",
    "\n",
    "    # Converter o espectrograma em dB\n",
    "    spectrogram = librosa.power_to_db(spectrogram, ref=np.max)\n",
    "\n",
    "    # Expandir a dimensão do canal\n",
    "    spectrogram = np.expand_dims(spectrogram, axis=-1)\n",
    "\n",
    "    # Redimensionar o espectrograma\n",
    "    spectrogram = cv2.resize(spectrogram, (width, height))\n",
    "\n",
    "    return spectrogram\n",
    "\n",
    "\n",
    "# Carregar os dados de treinamento e teste\n",
    "X_train, y_train = load_audio_data(train_dir, spec_height, spec_width)\n",
    "X_test, y_test = load_audio_data(test_dir, spec_height, spec_width)\n"
   ],
   "metadata": {
    "collapsed": false
   }
  },
  {
   "cell_type": "code",
   "execution_count": null,
   "outputs": [],
   "source": [
    "# Codificar as categorias de saída\n",
    "le = LabelEncoder()\n",
    "y_train_encoded = le.fit_transform(y_train)\n",
    "y_test_encoded = le.transform(y_test)\n",
    "y_train_onehot = to_categorical(y_train_encoded)\n",
    "y_test_onehot = to_categorical(y_test_encoded)\n",
    "\n",
    "# Dividir o conjunto de treinamento em treinamento e validação\n",
    "X_train, X_val, y_train_onehot, y_val_onehot = train_test_split(X_train, y_train_onehot, test_size=0.2, random_state=42)\n",
    "\n",
    "# Normalizar os espectrogramas\n",
    "X_train_norm = X_train / 255.0\n",
    "X_test_norm = X_test / 255.0\n",
    "X_val_norm = X_val / 255.0\n"
   ],
   "metadata": {
    "collapsed": false,
    "ExecuteTime": {
     "start_time": "2023-04-03T23:08:50.658048Z",
     "end_time": "2023-04-03T23:08:50.708045Z"
    }
   }
  },
  {
   "cell_type": "code",
   "execution_count": null,
   "outputs": [],
   "source": [
    "height = 128\n",
    "width = 128\n",
    "\n",
    "model = Sequential()\n",
    "model.add(Conv2D(filters=32, kernel_size=(3,3), activation='relu', input_shape=(height, width, 1)))\n",
    "model.add(MaxPooling2D(pool_size=(2,2)))\n",
    "model.add(Dropout(0.2))\n",
    "\n",
    "model.add(Conv2D(filters=32, kernel_size=(3,3), activation='relu'))\n",
    "model.add(MaxPooling2D(pool_size=(2,2)))\n",
    "model.add(Dropout(0.2))\n",
    "\n",
    "model.add(Conv2D(filters=64, kernel_size=(3,3), activation='relu'))\n",
    "model.add(MaxPooling2D(pool_size=(2,2)))\n",
    "model.add(Dropout(0.3))\n",
    "\n",
    "model.add(Conv2D(filters=128, kernel_size=(3,3), activation='relu'))\n",
    "model.add(MaxPooling2D(pool_size=(2,2)))\n",
    "model.add(Dropout(0.4))\n",
    "\n",
    "model.add(Flatten())\n",
    "model.add(Dense(256, activation='relu'))\n",
    "model.add(Dropout(0.5))\n",
    "model.add(Dense(num_classes, activation='softmax'))\n",
    "\n",
    "\n",
    "opt = Adam(learning_rate=learningRate)\n",
    "model.compile(loss='categorical_crossentropy', optimizer=opt, metrics=['accuracy'])\n",
    "\n",
    "model.summary()\n"
   ],
   "metadata": {
    "collapsed": false,
    "ExecuteTime": {
     "start_time": "2023-04-03T23:08:50.693048Z",
     "end_time": "2023-04-03T23:08:51.027016Z"
    }
   }
  },
  {
   "cell_type": "code",
   "execution_count": null,
   "outputs": [],
   "source": [
    "#0.0001\n",
    "optimizer = Adam(learning_rate=learningRate)\n",
    "model.compile(optimizer=optimizer, loss='categorical_crossentropy', metrics=['accuracy'])"
   ],
   "metadata": {
    "collapsed": false,
    "ExecuteTime": {
     "start_time": "2023-04-03T23:08:50.986022Z",
     "end_time": "2023-04-03T23:08:51.028019Z"
    }
   }
  },
  {
   "cell_type": "code",
   "execution_count": null,
   "outputs": [],
   "source": [
    "early_stopping = EarlyStopping(monitor='val_loss', patience=10, verbose=1, mode='auto')\n",
    "\n",
    "history = model.fit(X_train_norm, y_train_onehot, batch_size=batch_size, epochs=epochs, validation_data=(X_val_norm, y_val_onehot), callbacks=[early_stopping])\n"
   ],
   "metadata": {
    "collapsed": false,
    "ExecuteTime": {
     "start_time": "2023-04-02T17:47:14.814591Z",
     "end_time": "2023-04-02T17:51:56.087560Z"
    }
   }
  },
  {
   "cell_type": "code",
   "execution_count": null,
   "outputs": [],
   "source": [
    "loss, accuracy = model.evaluate(X_test_norm, y_test_onehot, batch_size=batch_size)\n",
    "\n",
    "print(f'Test loss: {loss:.4f}')\n",
    "print(f'Test accuracy: {accuracy:.4f}')\n"
   ],
   "metadata": {
    "collapsed": false,
    "ExecuteTime": {
     "start_time": "2023-04-02T17:52:11.560373Z",
     "end_time": "2023-04-02T17:52:11.801364Z"
    }
   }
  },
  {
   "cell_type": "code",
   "execution_count": null,
   "outputs": [],
   "source": [
    "import os\n",
    "\n",
    "# Carregar os dados de classificação\n",
    "X_predict, y_predict = load_audio_data(predict_dir, spec_height, spec_width)\n",
    "\n",
    "# Normalizar os espectrogramas\n",
    "X_predict_norm = X_predict / 255.0\n",
    "\n",
    "# Fazer as previsões\n",
    "y_predict_onehot = model.predict(X_predict_norm)\n",
    "\n",
    "# Converter as previsões em classes\n",
    "y_predict_encoded = np.argmax(y_predict_onehot, axis=1)\n",
    "y_predict_labels = le.inverse_transform(y_predict_encoded)\n",
    "\n",
    "# Imprimir as previsões\n",
    "predict_files = os.listdir(predict_dir)\n",
    "for i in range(len(y_predict_labels)):\n",
    "    print(f'{predict_files[i]}: {y_predict_labels[i]}')\n"
   ],
   "metadata": {
    "collapsed": false,
    "ExecuteTime": {
     "start_time": "2023-04-02T15:56:08.299796Z",
     "end_time": "2023-04-02T15:56:09.809792Z"
    }
   }
  },
  {
   "cell_type": "code",
   "execution_count": null,
   "outputs": [],
   "source": [
    "# Salvar o modelo treinado em disco\n",
    "model.save('meu_modelo.h5')"
   ],
   "metadata": {
    "collapsed": false,
    "ExecuteTime": {
     "start_time": "2023-04-02T17:52:30.046853Z",
     "end_time": "2023-04-02T17:52:30.119877Z"
    }
   }
  },
  {
   "cell_type": "code",
   "execution_count": null,
   "outputs": [],
   "source": [
    "import numpy as np\n",
    "from keras.models import load_model\n",
    "import librosa\n",
    "\n",
    "# Carregar o modelo\n",
    "model = load_model('meu_modelo.h5')\n",
    "\n",
    "# Carregar o áudio\n",
    "audio, sr = librosa.load('treinamentov2/Choro/0a983cd2-0078-4698-a048-99ac01eb167a-1433917038889-1.7-f-04-hu.wav')\n",
    "\n",
    "# Pré-processar o áudio\n",
    "spectrogram = librosa.feature.melspectrogram(y=audio, sr=sr, n_mels=128, fmax=8000)\n",
    "spectrogram = librosa.power_to_db(spectrogram, ref=np.max)\n",
    "\n",
    "# Ajustar o tamanho do espectrograma para a forma esperada pelo modelo\n",
    "expected_shape = (128, 128)\n",
    "if spectrogram.shape[1] > expected_shape[1]:\n",
    "    spectrogram = spectrogram[:, :expected_shape[1]]\n",
    "else:\n",
    "    spectrogram = np.pad(spectrogram, ((0, 0), (0, expected_shape[1] - spectrogram.shape[1])), mode='constant', constant_values=0)\n",
    "\n",
    "spectrogram = np.expand_dims(spectrogram, axis=-1)\n",
    "\n",
    "# Fazer a previsão\n",
    "class_names = ['Barulho', 'Choro', 'Risada', 'Silencio']\n",
    "\n",
    "preds = model.predict(np.array([spectrogram]))\n",
    "\n",
    "# Obter a classe com maior probabilidade\n",
    "class_idx = np.argmax(preds, axis=1)[0]\n",
    "\n",
    "# Mapear o índice da classe para o rótulo da classe\n",
    "class_label = class_names[class_idx]\n",
    "\n",
    "print('O áudio é da classe: ', class_label)"
   ],
   "metadata": {
    "collapsed": false,
    "ExecuteTime": {
     "start_time": "2023-04-02T17:53:04.708580Z",
     "end_time": "2023-04-02T17:53:05.022619Z"
    }
   }
  },
  {
   "cell_type": "code",
   "execution_count": null,
   "outputs": [],
   "source": [],
   "metadata": {
    "collapsed": false
   }
  }
 ],
 "metadata": {
  "kernelspec": {
   "display_name": "Python 3",
   "language": "python",
   "name": "python3"
  },
  "language_info": {
   "codemirror_mode": {
    "name": "ipython",
    "version": 2
   },
   "file_extension": ".py",
   "mimetype": "text/x-python",
   "name": "python",
   "nbconvert_exporter": "python",
   "pygments_lexer": "ipython2",
   "version": "2.7.6"
  }
 },
 "nbformat": 4,
 "nbformat_minor": 0
}
